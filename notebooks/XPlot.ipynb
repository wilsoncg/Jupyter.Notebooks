{
 "cells": [
  {
   "cell_type": "code",
   "execution_count": 15,
   "metadata": {},
   "outputs": [
    {
     "data": {
      "text/html": [
       "<div id=\"0f193cae-ce5f-494e-a9c6-fb801969c734\" style=\"width: 900px; height: 900px;\"></div>\r\n",
       "<script type=\"text/javascript\">\n",
       "\r\n",
       "var renderPlotly = function() {\r\n",
       "    var xplotRequire = require.config({context:'xplot-3.0.1',paths:{plotly:'https://cdn.plot.ly/plotly-1.49.2.min'}}) || require;\r\n",
       "    xplotRequire(['plotly'], function(Plotly) {\n",
       "\n",
       "            var data = [{\"type\":\"bar\",\"x\":[23,22,12],\"y\":[1000.0,999.0,20.0],\"marker\":{\"color\":\"#ad33ff\"},\"name\":\"\\\"PayPal\\\"\"}];\n",
       "            var layout = {\"title\":\"Last 24 hours transactions 23/07/20\",\"barmode\":\"relative\"};\n",
       "            Plotly.newPlot('0f193cae-ce5f-494e-a9c6-fb801969c734', data, layout);\n",
       "        \n",
       "});\r\n",
       "};\r\n",
       "if ((typeof(require) !==  typeof(Function)) || (typeof(require.config) !== typeof(Function))) {\r\n",
       "    var script = document.createElement(\"script\"); \r\n",
       "    script.setAttribute(\"src\", \"https://cdnjs.cloudflare.com/ajax/libs/require.js/2.3.6/require.min.js\");\r\n",
       "    script.onload = function(){\r\n",
       "        renderPlotly();\r\n",
       "    };\r\n",
       "    document.getElementsByTagName(\"head\")[0].appendChild(script); \r\n",
       "}\r\n",
       "else {\r\n",
       "    renderPlotly();\r\n",
       "}\n",
       "</script>\n"
      ]
     },
     "execution_count": 15,
     "metadata": {},
     "output_type": "execute_result"
    }
   ],
   "source": [
    "#r \"nuget:XPlot.Plotly\"\n",
    "\n",
    "open XPlot.Plotly\n",
    "\n",
    "let date = System.DateTime.UtcNow.ToString(\"dd/MM/yy\")\n",
    "type HoursStackInfo = { Name : string; Hours : seq<int>; Amounts : seq<decimal>; Colour : string }\n",
    "\n",
    "let getHoursStacks =\n",
    "    [{ Name = \"PayPal\";\n",
    "      Hours = [23; 22; 12];\n",
    "      Amounts = [1000.0m; 999.0m; 20.0m];\n",
    "      Colour = \"#ad33ff\"; }]\n",
    "\n",
    "getHoursStacks\n",
    "|> Seq.map (fun t -> \n",
    "Bar(\n",
    " x = t.Hours, \n",
    " y = t.Amounts, \n",
    " name= sprintf \"%A\" t.Name, \n",
    " marker = Marker(color = t.Colour)))\n",
    "|> Chart.Plot  \n",
    "|> Chart.WithLayout (\n",
    " Layout(\n",
    "    barmode=\"relative\", \n",
    "    title= sprintf \"Last 24 hours transactions %s\" date))\n",
    "|> Chart.WithSize (900,900)\n"
   ]
  },
  {
   "cell_type": "code",
   "execution_count": 13,
   "metadata": {},
   "outputs": [
    {
     "name": "stderr",
     "output_type": "stream",
     "text": [
      "Stopped due to error\n"
     ]
    },
    {
     "ename": "Unhandled exception",
     "evalue": "input.fsx (1,1)-(1,13) typecheck error The value or constructor 'last24hChart' is not defined.",
     "output_type": "error",
     "traceback": [
      "input.fsx (1,1)-(1,13) typecheck error The value or constructor 'last24hChart' is not defined."
     ]
    }
   ],
   "source": []
  },
  {
   "cell_type": "code",
   "execution_count": null,
   "metadata": {},
   "outputs": [],
   "source": []
  }
 ],
 "metadata": {
  "kernelspec": {
   "display_name": ".NET (F#)",
   "language": "F#",
   "name": ".net-fsharp"
  },
  "language_info": {
   "file_extension": ".fs",
   "mimetype": "text/x-fsharp",
   "name": "C#",
   "pygments_lexer": "fsharp",
   "version": "4.5"
  }
 },
 "nbformat": 4,
 "nbformat_minor": 4
}
